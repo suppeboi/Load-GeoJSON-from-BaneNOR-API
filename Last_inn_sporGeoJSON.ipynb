{
 "cells": [
  {
   "cell_type": "code",
   "execution_count": 4,
   "metadata": {},
   "outputs": [],
   "source": [
    "import requests\n",
    "import pandas as pd"
   ]
  },
  {
   "cell_type": "markdown",
   "metadata": {},
   "source": [
    "Defining the function that gets the data from the API."
   ]
  },
  {
   "cell_type": "code",
   "execution_count": 5,
   "metadata": {},
   "outputs": [],
   "source": [
    "def getMapResponse(offset, trainStations = False, **kwargs):\n",
    "    '''Returns a JSON-reponse object containing limit (default and max is 2000) number of items, starting from offset. trainStations determines whether or not the function returns stations or tracks.'''\n",
    "\n",
    "    limit = kwargs.get(\"limit\", 2000)\n",
    "    inputalternativ = kwargs.get(\"inputalternativ\", 1)\n",
    "\n",
    "    if trainStations:\n",
    "        #Denne inneholder stasjoner, og ønskes brukt sammen med alt 3. Kan kanskje brukes sammen med 1?\n",
    "        url = f\"https://dvlkart.banenor.no/arcgis/rest/services/Banenettverk/MapServer/2/query?where=1%3D1&text=&objectIds=&time=&timeRelation=esriTimeRelationOverlaps&geometry=&geometryType=esriGeometryEnvelope&inSR=&spatialRel=esriSpatialRelIntersects&distance=&units=esriSRUnit_Meter&relationParam=&outFields=*&returnGeometry=true&returnTrueCurves=false&maxAllowableOffset=&geometryPrecision=&outSR=&havingClause=&returnIdsOnly=false&returnCountOnly=false&orderByFields=&groupByFieldsForStatistics=&outStatistics=&returnZ=false&returnM=false&gdbVersion=&historicMoment=&returnDistinctValues=false&resultOffset={offset}&resultRecordCount={limit}&returnExtentOnly=false&sqlFormat=none&datumTransformation=&parameterValues=&rangeValues=&quantizationParameters=&featureEncoding=esriDefault&f=geojson\"\n",
    "    elif inputalternativ == 1:\n",
    "        #Denne skal testes mer, inneholder en forenklet strekningsmodell\n",
    "        url = f\"https://dvlkart.banenor.no/arcgis/rest/services/Banenettverk/MapServer/10/query?where=1%3D1&text=&objectIds=&time=&timeRelation=esriTimeRelationOverlaps&geometry=&geometryType=esriGeometryEnvelope&inSR=&spatialRel=esriSpatialRelIntersects&distance=&units=esriSRUnit_Meter&relationParam=&outFields=*&returnGeometry=true&returnTrueCurves=false&maxAllowableOffset=&geometryPrecision=&outSR=&havingClause=&returnIdsOnly=false&returnCountOnly=false&orderByFields=&groupByFieldsForStatistics=&outStatistics=&returnZ=false&returnM=false&gdbVersion=&historicMoment=&returnDistinctValues=false&resultOffset={offset}&resultRecordCount={limit}&returnExtentOnly=false&sqlFormat=none&datumTransformation=&parameterValues=&rangeValues=&quantizationParameters=&featureEncoding=esriDefault&f=geojson\"\n",
    "    elif inputalternativ == 2:\n",
    "        #Denne inneholder 243 rader, men hver inneholder for lange objekter til å vises korrekt, så de blir kuttet av, og viser bare starten på strekninger.\n",
    "        url = f\"https://dvlkart.banenor.no/arcgis/rest/services/Banelenke/MapServer/0/query?where=1%3D1&text=&objectIds=&time=&timeRelation=esriTimeRelationOverlaps&geometry=&geometryType=esriGeometryEnvelope&inSR=&spatialRel=esriSpatialRelIntersects&distance=&units=esriSRUnit_Foot&relationParam=&outFields=*&returnGeometry=true&returnTrueCurves=false&maxAllowableOffset=&geometryPrecision=&outSR=&havingClause=&returnIdsOnly=false&returnCountOnly=false&orderByFields=&groupByFieldsForStatistics=&outStatistics=&returnZ=false&returnM=false&gdbVersion=&historicMoment=&returnDistinctValues=false&resultOffset={offset}&resultRecordCount={limit}&returnExtentOnly=false&sqlFormat=none&datumTransformation=&parameterValues=&rangeValues=&quantizationParameters=&featureEncoding=esriDefault&f=geojson\"\n",
    "    elif inputalternativ == 3:\n",
    "        #Denne inneholder for mange rader, som hver er ganske korte, og blir for mange til at Powerapps kan vise dem korrekt. Den viser bare de første 2000.\n",
    "        url = f\"https://dvlkart.banenor.no/arcgis/rest/services/Banenettverk/MapServer/14/query?where=1%3D1&text=&objectIds=&time=&timeRelation=esriTimeRelationOverlaps&geometry=&geometryType=esriGeometryPolygon&inSR=&spatialRel=esriSpatialRelIntersects&distance=&units=esriSRUnit_Foot&relationParam=&outFields=Banenavn&returnGeometry=true&returnTrueCurves=false&maxAllowableOffset=&geometryPrecision=&outSR=&havingClause=&returnIdsOnly=false&returnCountOnly=false&orderByFields=&groupByFieldsForStatistics=&outStatistics=&returnZ=false&returnM=false&gdbVersion=&historicMoment=&returnDistinctValues=false&resultOffset={offset}&resultRecordCount={limit}&returnExtentOnly=false&sqlFormat=none&datumTransformation=&parameterValues=&rangeValues=&quantizationParameters=&featureEncoding=esriDefault&f=geojson\"\n",
    "    \n",
    "    payload = {}\n",
    "    headers = {}\n",
    "    response = requests.get(url, headers=headers, data=payload)\n",
    "    #print(\"URL used: \" + url)\n",
    "    print(\"Length of API response:\", len(response.text))\n",
    "    return response"
   ]
  },
  {
   "cell_type": "markdown",
   "metadata": {},
   "source": [
    "Main loop: \n",
    "This function fills the dataframe SporDF with all the data from the API."
   ]
  },
  {
   "cell_type": "code",
   "execution_count": 6,
   "metadata": {},
   "outputs": [],
   "source": [
    "def fillMapDF(trainStations, offset, limit, sporDF):\n",
    "    hentetAlt = False\n",
    "        \n",
    "    while not hentetAlt:\n",
    "        SporRawJSON = getMapResponse(offset = offset, trainStations = trainStations).json()  \n",
    "        \n",
    "        tempdf = pd.json_normalize(SporRawJSON)\n",
    "        tempdf = tempdf.explode(\"features\")\n",
    "        print(\"Rows of new data:\", tempdf.shape[0])\n",
    "        sporDF = pd.concat([sporDF, tempdf], ignore_index=True)\n",
    "        #print(sporDF.shape)\n",
    "\n",
    "        if \"exceededTransferLimit\" in SporRawJSON:\n",
    "            if SporRawJSON[\"exceededTransferLimit\"] == True:\n",
    "                print(f\"Transfer limit exceeded. Objects number {offset}-{offset+limit} has been collected. Fetching the next {limit}...\")\n",
    "                offset += limit\n",
    "        else:\n",
    "            print(\"All data collected.\")\n",
    "            hentetAlt = True                \n",
    "        \n",
    "                \n",
    "    print(\"\\n\")\n",
    "    return sporDF"
   ]
  },
  {
   "cell_type": "code",
   "execution_count": null,
   "metadata": {},
   "outputs": [
    {
     "data": {
      "text/plain": [
       "'\\n  \"type\": \"FeatureCollection\",\\n  \"features\": [\\n    {\\n      \"type\": \"Feature\",\\n      \"geometry\": {\\n        \"type\": \"LineString\",\\n        \"coordinates\": [\\n          [13.6299147114066, 66.1564617390492],\\n          [13.6298764104629, 66.1564525877301],\\n          [13.6299147114066, 66.1564617390492]\\n        ]\\n      },\\n      \"properties\": {\\n        \"Banenavn\": \"Nordlandsbanen\"\\n      }\\n    },\\n    {\\n      \"type\": \"Feature\",\\n      \"geometry\": {\\n        \"type\": \"LineString\",\\n        \"coordinates\": [\\n          [5.73934403181721, 60.4593989800107],\\n          [5.73934270707218, 60.4593853650686],\\n          [5.73934512720757, 60.4593612516533],\\n          [5.73932950205534, 60.4592613030111],\\n          [5.73930664342178, 60.4591609077203],\\n          [5.73925735839471, 60.4590101723198],\\n          [5.73919006967426, 60.4588611528486],\\n          [5.73910527704731, 60.4587143108161],\\n          [5.73901556669164, 60.4585875023944]\\n        ]\\n      },\\n      \"properties\": {\\n        \"Banenavn\": \"Bergensbanen\"\\n      }\\n    }\\n  ]\\n  '"
      ]
     },
     "execution_count": 247,
     "metadata": {},
     "output_type": "execute_result"
    }
   ],
   "source": [
    "#Sample response\n",
    "'''\n",
    "  \"type\": \"FeatureCollection\",\n",
    "  \"features\": [\n",
    "    {\n",
    "      \"type\": \"Feature\",\n",
    "      \"geometry\": {\n",
    "        \"type\": \"LineString\",\n",
    "        \"coordinates\": [\n",
    "          [13.6299147114066, 66.1564617390492],\n",
    "          [13.6298764104629, 66.1564525877301],\n",
    "          [13.6299147114066, 66.1564617390492]\n",
    "        ]\n",
    "      },\n",
    "      \"properties\": {\n",
    "        \"Banenavn\": \"Nordlandsbanen\"\n",
    "      }\n",
    "    },\n",
    "    {\n",
    "      \"type\": \"Feature\",\n",
    "      \"geometry\": {\n",
    "        \"type\": \"LineString\",\n",
    "        \"coordinates\": [\n",
    "          [5.73934403181721, 60.4593989800107],\n",
    "          [5.73934270707218, 60.4593853650686],\n",
    "          [5.73934512720757, 60.4593612516533],\n",
    "          [5.73932950205534, 60.4592613030111],\n",
    "          [5.73930664342178, 60.4591609077203],\n",
    "          [5.73925735839471, 60.4590101723198],\n",
    "          [5.73919006967426, 60.4588611528486],\n",
    "          [5.73910527704731, 60.4587143108161],\n",
    "          [5.73901556669164, 60.4585875023944]\n",
    "        ]\n",
    "      },\n",
    "      \"properties\": {\n",
    "        \"Banenavn\": \"Bergensbanen\"\n",
    "      }\n",
    "    }\n",
    "  ]\n",
    "  '''"
   ]
  },
  {
   "cell_type": "markdown",
   "metadata": {},
   "source": [
    "Define and initialize parameters."
   ]
  },
  {
   "cell_type": "code",
   "execution_count": 7,
   "metadata": {},
   "outputs": [],
   "source": [
    "offset = 0\n",
    "limit = 2000\n",
    "sporDF = pd.DataFrame(None)\n",
    "saveFileName = \"GeoJSON-spor-forenklet-modell.xlsx\"\n",
    "\n",
    "trainStations = True"
   ]
  },
  {
   "cell_type": "code",
   "execution_count": 8,
   "metadata": {},
   "outputs": [
    {
     "name": "stdout",
     "output_type": "stream",
     "text": [
      "Length of API response: 141632\n",
      "Rows of new data: 44\n",
      "All data collected.\n",
      "\n",
      "\n",
      "Length of API response: 195080\n",
      "Rows of new data: 496\n",
      "All data collected.\n",
      "\n",
      "\n",
      "Total number of JSON objects: 540.\n"
     ]
    }
   ],
   "source": [
    "sporDF = fillMapDF(trainStations=False, offset = offset, limit = limit, sporDF = sporDF)\n",
    "sporDF = fillMapDF(trainStations=True, offset = offset, limit = limit, sporDF = sporDF)\n",
    "print(f\"Total number of JSON objects: {sporDF.shape[0]}.\")"
   ]
  },
  {
   "cell_type": "code",
   "execution_count": 257,
   "metadata": {},
   "outputs": [
    {
     "name": "stdout",
     "output_type": "stream",
     "text": [
      "             label label2                                        strfeatures  \\\n",
      "index                                                                          \n",
      "535         Orstad  Point  {\"type\": \"Feature\", \"id\": 1252, \"geometry\": {\"...   \n",
      "536    Martineåsen  Point  {\"type\": \"Feature\", \"id\": 1651, \"geometry\": {\"...   \n",
      "537         Hobekk  Point  {\"type\": \"Feature\", \"id\": 1652, \"geometry\": {\"...   \n",
      "538         Myrane  Point  {\"type\": \"Feature\", \"id\": 1653, \"geometry\": {\"...   \n",
      "539          Ørvik  Point  {\"type\": \"Feature\", \"id\": 1654, \"geometry\": {\"...   \n",
      "\n",
      "       strlen  \n",
      "index          \n",
      "535       414  \n",
      "536       420  \n",
      "537       414  \n",
      "538       415  \n",
      "539       411  \n"
     ]
    }
   ],
   "source": [
    "pd.options.display.max_colwidth = 50 #Default = 50\n",
    "print(sporDF.tail())"
   ]
  },
  {
   "cell_type": "code",
   "execution_count": 251,
   "metadata": {},
   "outputs": [],
   "source": [
    "def setLabelTrackOrStationTest(row):\n",
    "    if row[\"geometry\"][\"type\"] == \"LineString\":\n",
    "        #print(\"inside linestring: \", row.get(\"properties\", None).get(\"Banenavn\", \"Ukjent banestrekning\"))\n",
    "        return row.get(\"properties\", \"L1\").get(\"Banenavn\", \"Ukjent banestrekning\")\n",
    "    elif row[\"geometry\"][\"type\"] == \"Point\":\n",
    "        #print(\"inside point\", row.get(\"properties\", None).get(\"Navn\", \"Ukjent stasjon\"))\n",
    "        return row.get(\"properties\", \"P1\").get(\"Navn\", \"Ukjent stasjon\")\n",
    "    elif row[\"geometry\"][\"type\"] == \"MultiLineString\":\n",
    "        return row.get(\"properties\", \"M1\").get(\"Banenavn\", \"Ukjent banestrekning\")"
   ]
  },
  {
   "cell_type": "markdown",
   "metadata": {},
   "source": [
    "Extracting \"banenavn\" (track name) from properties, and creating a separate column for that. Also adding a a columns where features is converted to string, to enable string.replace-functions. THat is needed to replace ' to \". Also adding a column with len(strfeature) for fun\n",
    "."
   ]
  },
  {
   "cell_type": "code",
   "execution_count": 252,
   "metadata": {},
   "outputs": [],
   "source": [
    "#Purely for debugging the last part\n",
    "sporDFbackup = sporDF.copy()"
   ]
  },
  {
   "cell_type": "code",
   "execution_count": 263,
   "metadata": {},
   "outputs": [],
   "source": [
    "##Purely for debugging the last part\n",
    "sporDF = sporDFbackup.copy()"
   ]
  },
  {
   "cell_type": "code",
   "execution_count": 264,
   "metadata": {},
   "outputs": [],
   "source": [
    "#sporDF = sporDF.assign(label2 = sporDF[\"features\"].apply(lambda x: x[\"geometry\"][\"type\"])) \n",
    "sporDF.index.name = \"index\"\n",
    "sporDF = sporDF.assign(label = sporDF[\"features\"].apply(lambda x: setLabelTrackOrStationTest(x)))\n",
    "\n",
    "sporDF = sporDF.assign(strfeatures = sporDF['features'].astype(\"string\").str.replace(\"'\", '\"') )\n",
    "sporDF = sporDF.assign(strlen = sporDF[\"strfeatures\"].map(len)) \n",
    "\n",
    "#Drops all other columns than the 3(/4) we are interested in.\n",
    "if \"label2\" in sporDF.columns:\n",
    "    sporDF = sporDF[[\"label\", \"label2\", \"strfeatures\", \"strlen\"]]\n",
    "else:\n",
    "    sporDF = sporDF[[\"label\", \"strfeatures\", \"strlen\"]]\n"
   ]
  },
  {
   "cell_type": "code",
   "execution_count": 266,
   "metadata": {},
   "outputs": [
    {
     "name": "stdout",
     "output_type": "stream",
     "text": [
      "(540, 3)\n",
      "Index(['label', 'strfeatures', 'strlen'], dtype='object')\n",
      "                     label          strfeatures  strlen\n",
      "index                                                  \n",
      "41     Tinnosbanen Noto...  {\"type\": \"Featur...     392\n",
      "92                    Flåm  {\"type\": \"Featur...     401\n",
      "352                Alnabru  {\"type\": \"Featur...     401\n",
      "441                 Suldal  {\"type\": \"Featur...     404\n",
      "86                    Bryn  {\"type\": \"Featur...     404\n",
      "...                    ...                  ...     ...\n",
      "33              Rørosbanen  {\"type\": \"Featur...   11522\n",
      "7             Bergensbanen  {\"type\": \"Featur...   13099\n",
      "8               Dovrebanen  {\"type\": \"Featur...   16537\n",
      "35           Sørlandsbanen  {\"type\": \"Featur...   18893\n",
      "19          Nordlandsbanen  {\"type\": \"Featur...   24707\n",
      "\n",
      "[540 rows x 3 columns]\n",
      "Empty DataFrame\n",
      "Columns: [strfeatures, strlen]\n",
      "Index: []\n"
     ]
    }
   ],
   "source": [
    "pd.options.display.max_colwidth = 20 #Default = 50\n",
    "\n",
    "print(sporDF.shape)\n",
    "print(sporDF.columns)\n",
    "print(sporDF.sort_values(\"strlen\", ascending=True))\n",
    "#Check for missing values\n",
    "errorDF = sporDF.loc[sporDF[\"label\"].isin([None, \"B1\", \"Ukjent banestrekning\", \"S1\", \"Ukjent stasjon\", \"M1\"])]\n",
    "print(errorDF[[\"strfeatures\", \"strlen\"]])"
   ]
  },
  {
   "cell_type": "code",
   "execution_count": 267,
   "metadata": {},
   "outputs": [],
   "source": [
    "sporDF.to_excel(saveFileName)"
   ]
  },
  {
   "cell_type": "markdown",
   "metadata": {},
   "source": [
    "Eksempel på json_normalize kode som illustrerer konseptet godt."
   ]
  },
  {
   "cell_type": "code",
   "execution_count": 154,
   "metadata": {},
   "outputs": [
    {
     "name": "stdout",
     "output_type": "stream",
     "text": [
      "     state shortname                         info  \\\n",
      "0  Florida        FL   {'governor': 'Rick Scott'}   \n",
      "1     Ohio        OH  {'governor': 'John Kasich'}   \n",
      "\n",
      "                        counties  \n",
      "0  [{'name': 'Dade', 'populat...  \n",
      "1  [{'name': 'Summit', 'popul...  \n",
      "result DF\n",
      "          name  population info.governor\n",
      "0        Dade       12345    Rick Scott\n",
      "1     Broward       40000    Rick Scott\n",
      "2  Palm Beach       60000    Rick Scott\n",
      "3      Summit        1234   John Kasich\n",
      "4    Cuyahoga        1337   John Kasich\n"
     ]
    }
   ],
   "source": [
    "#Example json_normalize\n",
    "data = [\n",
    "    {\n",
    "        \"state\": \"Florida\",\n",
    "        \"shortname\": \"FL\",\n",
    "        \"info\": {\"governor\": \"Rick Scott\"},\n",
    "        \"counties\": [\n",
    "            {\"name\": \"Dade\", \"population\": 12345},\n",
    "            {\"name\": \"Broward\", \"population\": 40000},\n",
    "            {\"name\": \"Palm Beach\", \"population\": 60000},\n",
    "        ],\n",
    "    },\n",
    "    {\n",
    "        \"state\": \"Ohio\",\n",
    "        \"shortname\": \"OH\",\n",
    "        \"info\": {\"governor\": \"John Kasich\"},\n",
    "        \"counties\": [\n",
    "            {\"name\": \"Summit\", \"population\": 1234},\n",
    "            {\"name\": \"Cuyahoga\", \"population\": 1337},\n",
    "        ],\n",
    "    },\n",
    "]\n",
    "print(pd.DataFrame(data))\n",
    "result = pd.json_normalize(\n",
    "    data, \"counties\", [[\"info\", \"governor\"]])\n",
    "print(\"result DF\\n\", result)"
   ]
  }
 ],
 "metadata": {
  "kernelspec": {
   "display_name": "Python 3",
   "language": "python",
   "name": "python3"
  },
  "language_info": {
   "codemirror_mode": {
    "name": "ipython",
    "version": 3
   },
   "file_extension": ".py",
   "mimetype": "text/x-python",
   "name": "python",
   "nbconvert_exporter": "python",
   "pygments_lexer": "ipython3",
   "version": "3.11.9"
  }
 },
 "nbformat": 4,
 "nbformat_minor": 2
}
