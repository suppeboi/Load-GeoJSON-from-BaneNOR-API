{
 "cells": [
  {
   "cell_type": "code",
   "execution_count": 83,
   "metadata": {},
   "outputs": [],
   "source": [
    "import requests\n",
    "import pandas as pd"
   ]
  },
  {
   "cell_type": "markdown",
   "metadata": {},
   "source": [
    "Defining the function that gets the data from the API."
   ]
  },
  {
   "cell_type": "code",
   "execution_count": 84,
   "metadata": {},
   "outputs": [],
   "source": [
    "def getMapResponse(offset, trainStations = False, **kwargs):\n",
    "    '''Returns a JSON-reponse object containing limit (default and max is 2000) number of items, starting from offset. trainStations determines whether or not the function returns stations or tracks.'''\n",
    "\n",
    "    limit = kwargs.get(\"limit\", 2000)\n",
    "    inputalternativ = kwargs.get(\"inputalternativ\", 1)\n",
    "\n",
    "    if trainStations:\n",
    "        #Denne inneholder stasjoner, og brukes sammen med alt 1. \n",
    "        url = f\"https://dvlkart.banenor.no/arcgis/rest/services/Banenettverk/MapServer/2/query?where=1%3D1&text=&objectIds=&time=&timeRelation=esriTimeRelationOverlaps&geometry=&geometryType=esriGeometryEnvelope&inSR=&spatialRel=esriSpatialRelIntersects&distance=&units=esriSRUnit_Meter&relationParam=&outFields=Navn&returnGeometry=true&returnTrueCurves=false&maxAllowableOffset=&geometryPrecision=&outSR=&havingClause=&returnIdsOnly=false&returnCountOnly=false&orderByFields=&groupByFieldsForStatistics=&outStatistics=&returnZ=false&returnM=false&gdbVersion=&historicMoment=&returnDistinctValues=false&resultOffset={offset}&resultRecordCount={limit}&returnExtentOnly=false&sqlFormat=none&datumTransformation=&parameterValues=&rangeValues=&quantizationParameters=&featureEncoding=esriDefault&f=geojson\"\n",
    "    elif inputalternativ == 1:\n",
    "        #Goldilocks principle -> perfect! Contains a simplified model with lower resolution. \n",
    "        url = f\"https://dvlkart.banenor.no/arcgis/rest/services/Banenettverk/MapServer/10/query?where=1%3D1&text=&objectIds=&time=&timeRelation=esriTimeRelationOverlaps&geometry=&geometryType=esriGeometryEnvelope&inSR=&spatialRel=esriSpatialRelIntersects&distance=&units=esriSRUnit_Meter&relationParam=&outFields=Banenavn&returnGeometry=true&returnTrueCurves=false&maxAllowableOffset=&geometryPrecision=&outSR=&havingClause=&returnIdsOnly=false&returnCountOnly=false&orderByFields=&groupByFieldsForStatistics=&outStatistics=&returnZ=false&returnM=false&gdbVersion=&historicMoment=&returnDistinctValues=false&resultOffset={offset}&resultRecordCount={limit}&returnExtentOnly=false&sqlFormat=none&datumTransformation=&parameterValues=&rangeValues=&quantizationParameters=&featureEncoding=esriDefault&f=geojson\"\n",
    "    elif inputalternativ == 2:\n",
    "        #Denne inneholder 243 rader, men hver inneholder for lange objekter til å vises korrekt, så de blir kuttet av, og viser bare starten på strekninger.\n",
    "        url = f\"https://dvlkart.banenor.no/arcgis/rest/services/Banelenke/MapServer/0/query?where=1%3D1&text=&objectIds=&time=&timeRelation=esriTimeRelationOverlaps&geometry=&geometryType=esriGeometryEnvelope&inSR=&spatialRel=esriSpatialRelIntersects&distance=&units=esriSRUnit_Foot&relationParam=&outFields=*&returnGeometry=true&returnTrueCurves=false&maxAllowableOffset=&geometryPrecision=&outSR=&havingClause=&returnIdsOnly=false&returnCountOnly=false&orderByFields=&groupByFieldsForStatistics=&outStatistics=&returnZ=false&returnM=false&gdbVersion=&historicMoment=&returnDistinctValues=false&resultOffset={offset}&resultRecordCount={limit}&returnExtentOnly=false&sqlFormat=none&datumTransformation=&parameterValues=&rangeValues=&quantizationParameters=&featureEncoding=esriDefault&f=geojson\"\n",
    "    elif inputalternativ == 3:\n",
    "        #Denne inneholder for mange rader, som hver er ganske korte, og blir for mange til at Powerapps kan vise dem korrekt. Den viser bare de første 2000.\n",
    "        url = f\"https://dvlkart.banenor.no/arcgis/rest/services/Banenettverk/MapServer/14/query?where=1%3D1&text=&objectIds=&time=&timeRelation=esriTimeRelationOverlaps&geometry=&geometryType=esriGeometryPolygon&inSR=&spatialRel=esriSpatialRelIntersects&distance=&units=esriSRUnit_Foot&relationParam=&outFields=Banenavn&returnGeometry=true&returnTrueCurves=false&maxAllowableOffset=&geometryPrecision=&outSR=&havingClause=&returnIdsOnly=false&returnCountOnly=false&orderByFields=&groupByFieldsForStatistics=&outStatistics=&returnZ=false&returnM=false&gdbVersion=&historicMoment=&returnDistinctValues=false&resultOffset={offset}&resultRecordCount={limit}&returnExtentOnly=false&sqlFormat=none&datumTransformation=&parameterValues=&rangeValues=&quantizationParameters=&featureEncoding=esriDefault&f=geojson\"\n",
    "    \n",
    "    payload = {}\n",
    "    headers = {}\n",
    "    response = requests.get(url, headers=headers, data=payload)\n",
    "    #print(\"URL used: \" + url)\n",
    "    print(\"Length of API response:\", len(response.text))\n",
    "    return response"
   ]
  },
  {
   "cell_type": "markdown",
   "metadata": {},
   "source": [
    "Main loop: \n",
    "This function fills the dataframe SporDF with all the data from the API."
   ]
  },
  {
   "cell_type": "code",
   "execution_count": 85,
   "metadata": {},
   "outputs": [],
   "source": [
    "def fillMapDF(trainStations, offset, limit, df):\n",
    "    hentetAlt = False\n",
    "        \n",
    "    while not hentetAlt:\n",
    "        SporRawJSON = getMapResponse(offset = offset, trainStations = trainStations).json()  \n",
    "        \n",
    "        tempdf = pd.json_normalize(SporRawJSON)\n",
    "        tempdf = tempdf.explode(\"features\")\n",
    "        print(\"Rows of new data:\", tempdf.shape[0])\n",
    "        df = pd.concat([df, tempdf], ignore_index=True)\n",
    "        #print(sporDF.shape)\n",
    "\n",
    "        if \"exceededTransferLimit\" in SporRawJSON:\n",
    "            if SporRawJSON[\"exceededTransferLimit\"] == True:\n",
    "                print(f\"Transfer limit exceeded. Objects number {offset}-{offset+limit} has been collected. Fetching the next {limit}...\")\n",
    "                offset += limit\n",
    "        else:\n",
    "            print(\"All data collected.\")\n",
    "            hentetAlt = True                \n",
    "        \n",
    "                \n",
    "    print(\"\\n\")\n",
    "    return df"
   ]
  },
  {
   "cell_type": "code",
   "execution_count": 86,
   "metadata": {},
   "outputs": [
    {
     "data": {
      "text/plain": [
       "'\\n  \"type\": \"FeatureCollection\",\\n  \"features\": [\\n    {\\n      \"type\": \"Feature\",\\n      \"geometry\": {\\n        \"type\": \"LineString\",\\n        \"coordinates\": [\\n          [13.6299147114066, 66.1564617390492],\\n          [13.6298764104629, 66.1564525877301],\\n          [13.6299147114066, 66.1564617390492]\\n        ]\\n      },\\n      \"properties\": {\\n        \"Banenavn\": \"Nordlandsbanen\"\\n      }\\n    },\\n    {\\n      \"type\": \"Feature\",\\n      \"geometry\": {\\n        \"type\": \"LineString\",\\n        \"coordinates\": [\\n          [5.73934403181721, 60.4593989800107],\\n          [5.73934270707218, 60.4593853650686],\\n          [5.73934512720757, 60.4593612516533],\\n          [5.73932950205534, 60.4592613030111],\\n          [5.73930664342178, 60.4591609077203],\\n          [5.73925735839471, 60.4590101723198],\\n          [5.73919006967426, 60.4588611528486],\\n          [5.73910527704731, 60.4587143108161],\\n          [5.73901556669164, 60.4585875023944]\\n        ]\\n      },\\n      \"properties\": {\\n        \"Banenavn\": \"Bergensbanen\"\\n      }\\n    }\\n  ]\\n  '"
      ]
     },
     "execution_count": 86,
     "metadata": {},
     "output_type": "execute_result"
    }
   ],
   "source": [
    "#Sample response\n",
    "'''\n",
    "  \"type\": \"FeatureCollection\",\n",
    "  \"features\": [\n",
    "    {\n",
    "      \"type\": \"Feature\",\n",
    "      \"geometry\": {\n",
    "        \"type\": \"LineString\",\n",
    "        \"coordinates\": [\n",
    "          [13.6299147114066, 66.1564617390492],\n",
    "          [13.6298764104629, 66.1564525877301],\n",
    "          [13.6299147114066, 66.1564617390492]\n",
    "        ]\n",
    "      },\n",
    "      \"properties\": {\n",
    "        \"Banenavn\": \"Nordlandsbanen\"\n",
    "      }\n",
    "    },\n",
    "    {\n",
    "      \"type\": \"Feature\",\n",
    "      \"geometry\": {\n",
    "        \"type\": \"LineString\",\n",
    "        \"coordinates\": [\n",
    "          [5.73934403181721, 60.4593989800107],\n",
    "          [5.73934270707218, 60.4593853650686],\n",
    "          [5.73934512720757, 60.4593612516533],\n",
    "          [5.73932950205534, 60.4592613030111],\n",
    "          [5.73930664342178, 60.4591609077203],\n",
    "          [5.73925735839471, 60.4590101723198],\n",
    "          [5.73919006967426, 60.4588611528486],\n",
    "          [5.73910527704731, 60.4587143108161],\n",
    "          [5.73901556669164, 60.4585875023944]\n",
    "        ]\n",
    "      },\n",
    "      \"properties\": {\n",
    "        \"Banenavn\": \"Bergensbanen\"\n",
    "      }\n",
    "    }\n",
    "  ]\n",
    "  '''"
   ]
  },
  {
   "cell_type": "markdown",
   "metadata": {},
   "source": [
    "Define and initialize parameters."
   ]
  },
  {
   "cell_type": "code",
   "execution_count": 87,
   "metadata": {},
   "outputs": [],
   "source": [
    "offset = 0\n",
    "limit = 2000\n",
    "saveFileName = \"GeoJSON-tracks-simplified\"\n",
    "\n",
    "trainStations = True\n",
    "convertStationsToCircles = True"
   ]
  },
  {
   "cell_type": "markdown",
   "metadata": {},
   "source": [
    "Populate the dataframe with track and staion position data."
   ]
  },
  {
   "cell_type": "code",
   "execution_count": 88,
   "metadata": {},
   "outputs": [
    {
     "name": "stdout",
     "output_type": "stream",
     "text": [
      "Length of API response: 134775\n",
      "Rows of new data: 44\n",
      "All data collected.\n",
      "\n",
      "\n",
      "Length of API response: 65997\n",
      "Rows of new data: 496\n",
      "All data collected.\n",
      "\n",
      "\n",
      "Total number of JSON objects: 540.\n"
     ]
    }
   ],
   "source": [
    "tracksDF = pd.DataFrame(None)\n",
    "\n",
    "tracksDF = fillMapDF(trainStations=False, offset = offset, limit = limit, df = tracksDF)\n",
    "finaldf = fillMapDF(trainStations=True, offset = offset, limit = limit, df = tracksDF)\n",
    "\n",
    "print(f\"Total number of JSON objects: {finaldf.shape[0]}.\")"
   ]
  },
  {
   "cell_type": "markdown",
   "metadata": {},
   "source": [
    "Function for extracting label (\"name\") for each GeoJSON object type, \"Banenavn\" for track, \"Navn\" for stations."
   ]
  },
  {
   "cell_type": "code",
   "execution_count": 89,
   "metadata": {},
   "outputs": [],
   "source": [
    "def setLabelTrackOrStationTest(row):\n",
    "    if row[\"geometry\"][\"type\"] == \"LineString\":\n",
    "        #print(\"inside linestring: \", row.get(\"properties\", None).get(\"Banenavn\", \"Ukjent banestrekning\"))\n",
    "        return row.get(\"properties\", \"L1\").get(\"Banenavn\", \"Ukjent banestrekning\")\n",
    "    elif row[\"geometry\"][\"type\"] == \"Point\":\n",
    "        #print(\"inside point\", row.get(\"properties\", None).get(\"Navn\", \"Ukjent stasjon\"))\n",
    "        return row.get(\"properties\", \"P1\").get(\"Navn\", \"Ukjent stasjon\")\n",
    "    elif row[\"geometry\"][\"type\"] == \"MultiLineString\":\n",
    "        return row.get(\"properties\", \"M1\").get(\"Banenavn\", \"Ukjent banestrekning\")"
   ]
  },
  {
   "cell_type": "markdown",
   "metadata": {},
   "source": [
    "Converting all station points to a circle, by using the fact that GeoJSON circles are supported as type: Point with a subtype: \"Circle\" and radius: xx"
   ]
  },
  {
   "cell_type": "code",
   "execution_count": 90,
   "metadata": {},
   "outputs": [],
   "source": [
    "def makeCircleFromPoint(row):\n",
    "    if row[\"geometry\"][\"type\"] == \"Point\":\n",
    "        row[\"properties\"][\"subType\"] = \"Circle\"\n",
    "        row[\"properties\"][\"radius\"] = 100\n",
    "    return row"
   ]
  },
  {
   "cell_type": "markdown",
   "metadata": {},
   "source": [
    "Extracting \"banenavn\" (track name) from properties, and creating a separate column for that. Also adding a a columns where features is converted to string, to enable string.replace-functions. THat is needed to replace ' to \". Also adding a column with len(strfeature) for fun\n",
    "."
   ]
  },
  {
   "cell_type": "code",
   "execution_count": 91,
   "metadata": {},
   "outputs": [],
   "source": [
    "#Purely for debugging the last part\n",
    "finaldf_backup = finaldf.copy()"
   ]
  },
  {
   "cell_type": "code",
   "execution_count": 92,
   "metadata": {},
   "outputs": [],
   "source": [
    "##Purely for debugging the last part\n",
    "finaldf = finaldf_backup.copy()"
   ]
  },
  {
   "cell_type": "code",
   "execution_count": 93,
   "metadata": {},
   "outputs": [],
   "source": [
    "#sporDF = sporDF.assign(label2 = sporDF[\"features\"].apply(lambda x: x[\"geometry\"][\"type\"])) \n",
    "finaldf.index.name = \"index\"\n",
    "finaldf = finaldf.assign(label = finaldf[\"features\"].apply(lambda x: setLabelTrackOrStationTest(x)))\n",
    "if convertStationsToCircles:\n",
    "    finaldf[\"features\"] = finaldf[\"features\"].apply(lambda x: makeCircleFromPoint(x))\n",
    "\n",
    "\n",
    "finaldf = finaldf.assign(strfeatures = finaldf[\"features\"].astype(\"string\").str.replace(\"'\", '\"') )\n",
    "finaldf = finaldf.assign(strlen = finaldf[\"strfeatures\"].map(len)) \n",
    "\n",
    "#Drops all other columns than the 3(/4) we are interested in.\n",
    "if \"label2\" in finaldf.columns:\n",
    "    finaldf = finaldf[[\"label\", \"label2\", \"strfeatures\", \"strlen\"]]\n",
    "else:\n",
    "    finaldf = finaldf[[\"label\", \"strfeatures\", \"strlen\"]]\n"
   ]
  },
  {
   "cell_type": "code",
   "execution_count": 94,
   "metadata": {},
   "outputs": [
    {
     "name": "stdout",
     "output_type": "stream",
     "text": [
      "(540, 3)\n",
      "Index(['label', 'strfeatures', 'strlen'], dtype='object')\n",
      "Empty DataFrame\n",
      "Columns: [strfeatures, strlen]\n",
      "Index: []\n"
     ]
    }
   ],
   "source": [
    "pd.options.display.max_colwidth = 20 #Default = 50\n",
    "\n",
    "print(finaldf.shape)\n",
    "print(finaldf.columns)\n",
    "#print(sporDF.sort_values(\"strlen\", ascending=True))\n",
    "#Check for missing values\n",
    "errorDF = finaldf.loc[finaldf[\"label\"].isin([None, \"B1\", \"Ukjent banestrekning\", \"S1\", \"Ukjent stasjon\", \"M1\"])]\n",
    "print(errorDF[[\"strfeatures\", \"strlen\"]])"
   ]
  },
  {
   "cell_type": "code",
   "execution_count": 95,
   "metadata": {},
   "outputs": [
    {
     "name": "stdout",
     "output_type": "stream",
     "text": [
      "             label  \\\n",
      "index                \n",
      "44        Krekling   \n",
      "45         Rudstad   \n",
      "46            Arna   \n",
      "47         Skansen   \n",
      "48          Dombås   \n",
      "...            ...   \n",
      "535         Orstad   \n",
      "536    Martineåsen   \n",
      "537         Hobekk   \n",
      "538         Myrane   \n",
      "539          Ørvik   \n",
      "\n",
      "                                                                                                                                                                                strfeatures  \\\n",
      "index                                                                                                                                                                                         \n",
      "44        {\"type\": \"Feature\", \"geometry\": {\"type\": \"Point\", \"coordinates\": [9.766953349451061, 59.66931830829303]}, \"properties\": {\"Navn\": \"Krekling\", \"subType\": \"Circle\", \"radius\": 100}}   \n",
      "45        {\"type\": \"Feature\", \"geometry\": {\"type\": \"Point\", \"coordinates\": [11.397246177179213, 61.01312721913072]}, \"properties\": {\"Navn\": \"Rudstad\", \"subType\": \"Circle\", \"radius\": 100}}   \n",
      "46            {\"type\": \"Feature\", \"geometry\": {\"type\": \"Point\", \"coordinates\": [5.466025079007241, 60.42020312265149]}, \"properties\": {\"Navn\": \"Arna\", \"subType\": \"Circle\", \"radius\": 100}}   \n",
      "47       {\"type\": \"Feature\", \"geometry\": {\"type\": \"Point\", \"coordinates\": [10.377593505148552, 63.431210462618786]}, \"properties\": {\"Navn\": \"Skansen\", \"subType\": \"Circle\", \"radius\": 100}}   \n",
      "48         {\"type\": \"Feature\", \"geometry\": {\"type\": \"Point\", \"coordinates\": [9.126033490311352, 62.068748990234866]}, \"properties\": {\"Navn\": \"Dombås\", \"subType\": \"Circle\", \"radius\": 100}}   \n",
      "...                                                                                                                                                                                     ...   \n",
      "535          {\"type\": \"Feature\", \"geometry\": {\"type\": \"Point\", \"coordinates\": [5.705291780204769, 58.7992729226776]}, \"properties\": {\"Navn\": \"Orstad\", \"subType\": \"Circle\", \"radius\": 100}}   \n",
      "536    {\"type\": \"Feature\", \"geometry\": {\"type\": \"Point\", \"coordinates\": [9.971176459487252, 59.05985708452194]}, \"properties\": {\"Navn\": \"Martineåsen\", \"subType\": \"Circle\", \"radius\": 100}}   \n",
      "537         {\"type\": \"Feature\", \"geometry\": {\"type\": \"Point\", \"coordinates\": [9.900835621590202, 59.07039884292061]}, \"properties\": {\"Navn\": \"Hobekk\", \"subType\": \"Circle\", \"radius\": 100}}   \n",
      "538        {\"type\": \"Feature\", \"geometry\": {\"type\": \"Point\", \"coordinates\": [9.676942873601533, 59.126980977819976]}, \"properties\": {\"Navn\": \"Myrane\", \"subType\": \"Circle\", \"radius\": 100}}   \n",
      "539          {\"type\": \"Feature\", \"geometry\": {\"type\": \"Point\", \"coordinates\": [9.688286504556736, 59.07225719471918]}, \"properties\": {\"Navn\": \"Ørvik\", \"subType\": \"Circle\", \"radius\": 100}}   \n",
      "\n",
      "       strlen  \n",
      "index          \n",
      "44        177  \n",
      "45        177  \n",
      "46        173  \n",
      "47        178  \n",
      "48        176  \n",
      "...       ...  \n",
      "535       174  \n",
      "536       180  \n",
      "537       175  \n",
      "538       176  \n",
      "539       174  \n",
      "\n",
      "[496 rows x 3 columns]\n"
     ]
    }
   ],
   "source": [
    "#Verifying that the convert to circle part works.\n",
    "#pd.options.display.max_colwidth = 200\n",
    "#print(finaldf.iloc[finaldf[\"strfeatures\"].str.contains(\"Circle\").values])"
   ]
  },
  {
   "cell_type": "code",
   "execution_count": 96,
   "metadata": {},
   "outputs": [],
   "source": [
    "if convertStationsToCircles:\n",
    "    filename = saveFileName + \"-Circle\" + \".xlsx\"\n",
    "else:\n",
    "    filename = saveFileName + \".xlsx\"\n",
    "finaldf.to_excel(filename)"
   ]
  },
  {
   "cell_type": "markdown",
   "metadata": {},
   "source": [
    "Eksempel på json_normalize kode som illustrerer konseptet godt."
   ]
  },
  {
   "cell_type": "code",
   "execution_count": 154,
   "metadata": {},
   "outputs": [
    {
     "name": "stdout",
     "output_type": "stream",
     "text": [
      "     state shortname                         info  \\\n",
      "0  Florida        FL   {'governor': 'Rick Scott'}   \n",
      "1     Ohio        OH  {'governor': 'John Kasich'}   \n",
      "\n",
      "                        counties  \n",
      "0  [{'name': 'Dade', 'populat...  \n",
      "1  [{'name': 'Summit', 'popul...  \n",
      "result DF\n",
      "          name  population info.governor\n",
      "0        Dade       12345    Rick Scott\n",
      "1     Broward       40000    Rick Scott\n",
      "2  Palm Beach       60000    Rick Scott\n",
      "3      Summit        1234   John Kasich\n",
      "4    Cuyahoga        1337   John Kasich\n"
     ]
    }
   ],
   "source": [
    "#Example json_normalize\n",
    "data = [\n",
    "    {\n",
    "        \"state\": \"Florida\",\n",
    "        \"shortname\": \"FL\",\n",
    "        \"info\": {\"governor\": \"Rick Scott\"},\n",
    "        \"counties\": [\n",
    "            {\"name\": \"Dade\", \"population\": 12345},\n",
    "            {\"name\": \"Broward\", \"population\": 40000},\n",
    "            {\"name\": \"Palm Beach\", \"population\": 60000},\n",
    "        ],\n",
    "    },\n",
    "    {\n",
    "        \"state\": \"Ohio\",\n",
    "        \"shortname\": \"OH\",\n",
    "        \"info\": {\"governor\": \"John Kasich\"},\n",
    "        \"counties\": [\n",
    "            {\"name\": \"Summit\", \"population\": 1234},\n",
    "            {\"name\": \"Cuyahoga\", \"population\": 1337},\n",
    "        ],\n",
    "    },\n",
    "]\n",
    "print(pd.DataFrame(data))\n",
    "result = pd.json_normalize(\n",
    "    data, \"counties\", [[\"info\", \"governor\"]])\n",
    "print(\"result DF\\n\", result)"
   ]
  }
 ],
 "metadata": {
  "kernelspec": {
   "display_name": "Python 3",
   "language": "python",
   "name": "python3"
  },
  "language_info": {
   "codemirror_mode": {
    "name": "ipython",
    "version": 3
   },
   "file_extension": ".py",
   "mimetype": "text/x-python",
   "name": "python",
   "nbconvert_exporter": "python",
   "pygments_lexer": "ipython3",
   "version": "3.11.9"
  }
 },
 "nbformat": 4,
 "nbformat_minor": 2
}
